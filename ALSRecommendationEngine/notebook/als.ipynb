{
 "cells": [
  {
   "cell_type": "markdown",
   "metadata": {},
   "source": [
    "#### FPGA-ACCELERATION OF MACHINE LEARNING , A CASE STUDY USING A SIMPLE ALTERNATING LEAST SQUARES(ALS) RECOMMENDATION ENGINE.\n",
    "\n",
    "##### MOVIE RECOMMENDATION USING  MATRIX FACTORIZATION TRAINED WITH ALS\n",
    "<img src=\"m_f.png\">\n",
    "\n",
    "This notebook demonstrates, how to communicate to programming-logic(FPGA - pl) from a processing system(ps) running python. The purpose of the communication is to send data to the pl , which has been designed to perform application specific accelerated data computation, and then get the result of the computation back to the ps for further computation. In that way we can achieve massive performance improvements both in speed and and energy consumption. \n",
    "\n"
   ]
  },
  {
   "cell_type": "markdown",
   "metadata": {},
   "source": [
    "### Down below , we give a brief variable explanation, so that it is easier for the reader to understand the source code.\n",
    "\n",
    "1. numMovies :   **integer**\n",
    ">  number of Movies\n",
    "\n",
    "2. numUsers : **integer**\n",
    "> number of Users\n",
    "\n",
    "3. M,U : **float arrays**\n",
    "> M containts one row for each Movie.\n",
    "> U contains one row for each User.\n",
    "> the size of each row is NFEATS.\n",
    "> as a result **U** has size **numUsers x NFEATS** \n",
    "> and  **M** has size **numMovies x NFEATS**\n",
    "> so that **R =  U X M'** has size **numUsers X numMovies** \n",
    "\n",
    "4. NFEATS : **integer**\n",
    "> specifies the factorization size\n",
    "\n",
    "5. userInf: **array of dictionaries**\n",
    "> userInf holds the input data in a structured manner sorted by user IDs.\n",
    "> i.e. userInf[0] = {\"iD\" : 0 , \"numRatings\" : 3 , \"ratings\": [2,3,4] , \"rId\": [1,2,5]}\n",
    "> which means that<br>\n",
    "> **user** with **id = 0** has <br>\n",
    "> **rated 3 movies** , <br>\n",
    "> he rated **movie with iD = 1** with **2**, <br>\n",
    "> he rated **movie with iD = 2** with **3**, <br>\n",
    "> he rated **movie with iD = 5** with **4** .<br>\n",
    "\n",
    "6. movieInf: **array of dictionaries**\n",
    "> movieInf holds the input data in a structured manner sorted by movie IDs.\n",
    "> i.e. movieInf[0] = {\"iD\" : 0 , \"numRatings\" : 3 , \"ratings\": [1,3,4] , \"rId\": [4,2,5]}\n",
    "> which means that <br>\n",
    "> **movie** with **id = 0** has <br>\n",
    "> **been rated by 3 users ** ,  <br>\n",
    "> rated by **user with iD = 4** with **1**, <br>\n",
    "> rated by **user with iD = 2** with **3**, <br>\n",
    "> rated by **user with iD = 5** with **4**  <br>"
   ]
  },
  {
   "cell_type": "markdown",
   "metadata": {},
   "source": [
    "## 1. A function responsible for the Initial hardware configurations"
   ]
  },
  {
   "cell_type": "code",
   "execution_count": 1,
   "metadata": {
    "collapsed": true
   },
   "outputs": [],
   "source": [
    "def createHardwareInterface():\n",
    "    \n",
    "    #OVERLAY CONFIGURES FPGA USING THE SPECIFIED BITSTREAM\n",
    "\tol = Overlay(\"ALS2.bit\")\n",
    "\tol.download()\n",
    "\n",
    "\tDMA_TO_DEV   = 0\n",
    "\tDMA_FROM_DEV = 1\n",
    "\t\n",
    "\t#DMA0 ---> TRANSFERS SBUFFER\n",
    "\t#DMA1 ---> TRANSFERS RBUFFER\n",
    "\t#DMA2 ---> TRANSFERS AOUT\n",
    "\t#DMA3 ---> TRANSFERS VOUT\n",
    "\n",
    "\t#-PHYSICAL ADDRESSES OF THE DMAs AS READ BY THE TCL FILE----\n",
    "\tADDR_DMA0_BASE = int(PL.ip_dict[\"SEG_dm_0_Reg\"][0],16)\n",
    "\tADDR_DMA1_BASE = int(PL.ip_dict[\"SEG_dm_1_Reg\"][0],16)\n",
    "\tADDR_DMA2_BASE = int(PL.ip_dict[\"SEG_dm_2_Reg\"][0],16)\n",
    "\tADDR_DMA3_BASE = int(PL.ip_dict[\"SEG_dm_3_Reg\"][0],16)\n",
    "\tADDR_MMIO      = int(PL.ip_dict[\"SEG_topLevelHW_0_if_Reg\"][0],16)\n",
    "\tRANGE_MMIO     = int(PL.ip_dict[\"SEG_topLevelHW_0_if_Reg\"][1],16)\n",
    "\t#------CREATE DMA OBJECTS---------------------------\n",
    "    \n",
    "\t# direction = 0 send to PL ,  direction = 1 receive from PL\n",
    "\t\n",
    "\tSbufferDMA = DMA(ADDR_DMA0_BASE,direction = DMA_TO_DEV)\n",
    "\tRbufferDMA = DMA(ADDR_DMA1_BASE,direction = DMA_TO_DEV)\n",
    "\tVoutDMA    = DMA(ADDR_DMA2_BASE,direction = DMA_FROM_DEV)\n",
    "\tAoutDMA    = DMA(ADDR_DMA3_BASE,direction = DMA_FROM_DEV)\n",
    "\tmmio \t   = MMIO(ADDR_MMIO, RANGE_MMIO)\n",
    "\n",
    "\t#--------BUFFER CREATION-------------------------------\n",
    "    #-- THE BUFFERS ARE CREATED AT A MAXIMUM SIZE\n",
    "    #-- BUT WE WILL STREAM TO HARDWARE  THE DESISED\n",
    "    #-- SIZE IN EACH ITERATION\n",
    "\tSbufferDMA.create_buf(4*g.NMAXRAT*g.NFEATS,1)\n",
    "\tRbufferDMA.create_buf(4*g.NMAXRAT,1)\n",
    "\tAoutDMA   .create_buf(4*g.NFEATS*g.NFEATS,1)\n",
    "\tVoutDMA   .create_buf(4*g.NFEATS,1)\n",
    "    # THESE BUFFERS ARE NOTHING MORE THA PHYSICAL CONTINUES ARRAYS\n",
    "    # OF DATA, SUITABLE FOR DMA TRANSFER\n",
    "\t#-----------------------------------------------------\n",
    "\t# --------get DMAs Buffer Address\n",
    "\tSbuffer = SbufferDMA.get_buf(32,data_type = 'float')\n",
    "\tRbuffer = RbufferDMA.get_buf(32,data_type = 'float')\n",
    "\tAout    = AoutDMA   .get_buf(32,data_type = 'float')\n",
    "\tVout    = VoutDMA   .get_buf(32,data_type = 'float')\n",
    "\n",
    "\tdmas        = {'SbufferDMA':SbufferDMA ,'RbufferDMA':RbufferDMA ,'AoutDMA': AoutDMA,'VoutDMA': VoutDMA , 'MMIO': mmio }\n",
    "\tdmaBuffers  = {'Sbuffer'   :Sbuffer    ,'Rbuffer'  :Rbuffer    ,'Aout'   :Aout    ,'Vout'   :Vout}\n",
    "    \n",
    "\treturn dmas"
   ]
  },
  {
   "cell_type": "markdown",
   "metadata": {},
   "source": [
    "## 2. A software - hardware API function, responsible for sending and receiving data from the FPGA"
   ]
  },
  {
   "cell_type": "code",
   "execution_count": 2,
   "metadata": {
    "collapsed": true
   },
   "outputs": [],
   "source": [
    "def topLevelHW(nratings,dmas):\n",
    "    \n",
    "\tSbufferDMA = dmas[\"SbufferDMA\"] \n",
    "\tRbufferDMA = dmas[\"RbufferDMA\"]\n",
    "\tAoutDMA    = dmas[\"AoutDMA\"]\n",
    "\tVoutDMA    = dmas[\"VoutDMA\"]\n",
    "\tmmio       = dmas[\"MMIO\"]\n",
    "\n",
    "\tDMA_TO_DEV   = 0\n",
    "\tDMA_FROM_DEV = 1\n",
    "\n",
    "    #WE USED AN IP CALLED \"FIFO ACCELERATOR ADAPTER\" TO \n",
    "    #AVOID DATA STREAMING DIRECTLY TO OUR ACCELERATOR\n",
    "    #THE FOLLOWING REGISTERS ARE USER TO PROGRAMM THE\n",
    "    #\"FIFO ACCELERATOR ADAPTER\"\n",
    "\tCMD_REG           = 0x0028\n",
    "\tCTR_REG           = 0x0000\n",
    "\tISCALAR0_DATA     = 0x0080\n",
    "\tISCALAR0_STATUS   = 0x0180\n",
    "\tIARG0_STATUS      = 0x0100\n",
    "\tIARG1_STATUS      = 0x0104\n",
    "\tOARG0_STATUS      = 0x0140\n",
    "\tOARG1_STATUS      = 0x0144\n",
    "\n",
    "    #sending Scalar nratings to \"FIFO ACCELERATOR ADAPTER\" , \n",
    "    #which specifies the ammount of data to be transfered\n",
    "    #we use axilite for the transfer\n",
    "\tmmio.write(ISCALAR0_DATA,int(nratings))\n",
    "\t#send command update output\n",
    "\tmmio.write(CMD_REG,0x00010003)\n",
    "\t#send command execute \n",
    "\tmmio.write(CMD_REG,0x00020000)\n",
    "\t#send command update input\n",
    "\tmmio.write(CMD_REG,0x103)\n",
    "\t\n",
    "    #SEND INPUT ARRAYS TO HARDWARE\n",
    "\t#transfer(NUM_OF_BYTES_TO_TRANSFER,DIRECTION)\n",
    "\tSbufferDMA.transfer(4*nratings*g.NFEATS,DMA_TO_DEV)\n",
    "\tRbufferDMA.transfer(4*nratings         ,DMA_TO_DEV)\n",
    "\t\n",
    "\tSbufferDMA.wait()\n",
    "\tRbufferDMA.wait()\n",
    "\t\n",
    "    #--RECEIVE HARDWARE OUTPUT\n",
    "    #--RECEIVE COMPUTATION RESULTS\n",
    "\tAoutDMA.transfer(4*g.NFEATS*g.NFEATS,DMA_FROM_DEV)\n",
    "\tVoutDMA.transfer(4*g.NFEATS         ,DMA_FROM_DEV)\n",
    "\n",
    "\tVoutDMA.wait()\n",
    "\tAoutDMA.wait()"
   ]
  },
  {
   "cell_type": "markdown",
   "metadata": {},
   "source": [
    "## 3.1 A function that emulates the hardware calculations in software <br> It is only called in case of pure software calculations (mode = 0)"
   ]
  },
  {
   "cell_type": "code",
   "execution_count": 3,
   "metadata": {
    "collapsed": true
   },
   "outputs": [],
   "source": [
    "def softwareKernel(M,sel,ratings,numRatings,dmas):\n",
    "\tAout = dmas[\"Aout\"]\n",
    "\tVout = dmas[\"Vout\"]\n",
    "\tfor i in range(NFEATS):\n",
    "\t\tfor j in range(i,NFEATS):\n",
    "\t\t\tif i<=j:\n",
    "\t\t\t\tresult = 0\n",
    "\t\t\t\tfor k in range(numRatings):\n",
    "\t\t\t\t\ttemp    = sel[k]\n",
    "\t\t\t\t\tresult += M[temp][i]*M[temp][j]\t\n",
    "\t\t\t\tAout[i*NFEATS+j] = result;\n",
    "\t\t\telse:\n",
    "\t\t\t\tAout[i*NFEATS+j] = 500;\n",
    "\t\t\t\t\t\t\t\t\n",
    "\tfor i in range(NFEATS):\n",
    "\t\tAout[i*NFEATS+i] += 0.01*numRatings\n",
    "\n",
    "\tfor i in range(NFEATS):\n",
    "\t\tacc = 0\n",
    "\t\tfor k in range(numRatings):\n",
    "\t\t\tacc += M[sel[k]][i]*ratings[k] \n",
    "\t\tVout[i] = acc\n",
    "\treturn Aout,Vout\n"
   ]
  },
  {
   "cell_type": "markdown",
   "metadata": {},
   "source": [
    "## 3.2 A function that fills the dma buffers with the appropriate data , and then calls topLevelHW <br>  It is only called in case of hardware assisted calculations (mode = 1)"
   ]
  },
  {
   "cell_type": "code",
   "execution_count": 4,
   "metadata": {
    "collapsed": true
   },
   "outputs": [],
   "source": [
    "\n",
    "def bufferizeAndSend(M,sel,ratings,nratings,dmas):\n",
    "\tbuffIndx = 0\n",
    "\tSbuffer = dmas[\"SbufferDMA\"].get_buf(32,data_type=\"float\")\n",
    "\tRbuffer = dmas[\"RbufferDMA\"].get_buf(32,data_type=\"float\")\n",
    "\tfor i in range(nratings):\n",
    "\t\tmov = sel[i]\n",
    "\t\tfor j in range(g.NFEATS):\n",
    "\t\t\tSbuffer[buffIndx] = M[mov][j]\n",
    "\t\t\tbuffIndx+=1\n",
    "\t\tRbuffer[i] = ratings[i]\n",
    "\n",
    "\thardware.topLevelHW(nratings,dmas)\n",
    "\tAout = dmas[\"AoutDMA\"].get_buf(32,data_type=\"float\")\n",
    "\tfor i in range(g.NFEATS):\n",
    "\t\tAout[i*g.NFEATS+i] += 0.01*nratings\n",
    "\n",
    "def hardwareKernel(M,sel,ratings,numRatings,dmas):\n",
    "\tbufferizeAndSend(M,sel,ratings,numRatings,dmas)\n",
    "\tAout  = dmas[\"AoutDMA\"].get_buf(32,data_type=\"float\")\n",
    "\tVout  = dmas[\"VoutDMA\"].get_buf(32,data_type=\"float\")"
   ]
  },
  {
   "cell_type": "markdown",
   "metadata": {},
   "source": [
    "## 4. A function tha solves a linear system , using Cholesky Decomposition"
   ]
  },
  {
   "cell_type": "code",
   "execution_count": 5,
   "metadata": {
    "collapsed": true
   },
   "outputs": [],
   "source": [
    "def choleskySolve(A,B,X):\n",
    "\tL = np.zeros(NFEATS*NFEATS,dtype=\"float32\")\n",
    "\tY = np.zeros(NFEATS,dtype=\"float32\")\n",
    "    \n",
    "    #--DECOMPOSE A = L*L' USING CHOLESKY\n",
    "\tfor i in range(NFEATS):\n",
    "\t\tfor j in range(i+1):\n",
    "\t\t\ts = 0;\n",
    "\t\t\tfor k in range(j):\n",
    "\t\t\t\ts += L[i*NFEATS+k]*L[j*NFEATS+k]\n",
    "\t\t\t\n",
    "\t\t\ttemp = A[i*NFEATS+j] if i<=j else A[j*NFEATS+i]\n",
    "\t\t\tvalue = math.sqrt(A[i*NFEATS+i]-s)if i==j else (1.0/L[j*NFEATS+j]*(temp-s))\n",
    "\t\t\tL[i*NFEATS+j] = value\n",
    "\t\n",
    "    #--USE BACKWARD AND FORWARD SUBSTITUTION \n",
    "    #--IN ORDER TO SOLVE THE SYSTEM\n",
    "    #--A*X = B => L*L'*X=B \n",
    "    #-- => IF L'*X = Y (1) THEN L*Y=B (2)\n",
    "    # SOLVE (1) AND (2)\n",
    "    \n",
    "\tfor i in range(NFEATS):\n",
    "\t\tY[i] = B[i];\n",
    "\t\tfor j in range(i):\n",
    "\t\t\tY[i]-=L[i*NFEATS+j]*Y[j]\n",
    "\t\tY[i] = Y[i]/L[i*NFEATS+i]\n",
    "\n",
    "\tfor i in range(NFEATS-1,-1,-1):\n",
    "\t\tX[i] = Y[i]\n",
    "\t\tfor j in range(i+1,NFEATS):\n",
    "\t\t\tX[i]-=X[j]*L[j*NFEATS+i]\n",
    "\t\tX[i] = X[i]/L[i*NFEATS+i]"
   ]
  },
  {
   "cell_type": "markdown",
   "metadata": {},
   "source": [
    "## 5. The update functions, they are called alternately"
   ]
  },
  {
   "cell_type": "code",
   "execution_count": 6,
   "metadata": {
    "collapsed": true
   },
   "outputs": [],
   "source": [
    "def updateU(U,M,numUsers,userInf,dmas):\n",
    "\tfor i in range(numUsers):\n",
    "\t\tsel           = userInf[i]['rId']\n",
    "\t\tratings       = userInf[i]['ratings'] \n",
    "\t\tnumRatings    = userInf[i]['numRatings']\n",
    "\t\tiD            = userInf[i]['iD']\n",
    "\t\t#------------------if mode is HW-----------------------\n",
    "\t\tif mode == 1:\n",
    "\t\t\thardwareKernel(M,sel,ratings,numRatings,dmas)\n",
    "\t\t\tAout  = dmas[\"AoutDMA\"].get_buf(32,data_type=\"float\")\n",
    "\t\t\tVout  = dmas[\"VoutDMA\"].get_buf(32,data_type=\"float\")\n",
    "\t\t\tcholeskySolve(Aout,Vout,U[iD])\n",
    "\t\t#------------------if mode is pure SW-------------------\n",
    "\t\tif mode == 0:\n",
    "\t\t\tsoftwareKernel(M,sel,ratings,numRatings,dmas)\n",
    "\t\t\tAout  = dmas[\"Aout\"]\n",
    "\t\t\tVout  = dmas[\"Vout\"]\n",
    "\t\t\tcholeskySolve(Aout,Vout,U[iD])\n",
    "\t\t#-----------------------------------------------------\n",
    "\n",
    "\n",
    "def updateM(U,M,numMovies,movieInf,dmas):\n",
    "\tfor i in range(numMovies):\n",
    "\t\tsel           = movieInf[i]['rId'] \n",
    "\t\tratings       = movieInf[i]['ratings']\n",
    "\t\tnumRatings    = movieInf[i]['numRatings']\n",
    "\t\tiD            = movieInf[i]['iD']\n",
    "\t\t#------------------if mode is HW-----------------------\n",
    "\t\tif mode == 1:\n",
    "\t\t\thardwareKernel(U,sel,ratings,numRatings,dmas)\n",
    "\t\t\tAout  = dmas[\"AoutDMA\"].get_buf(32,data_type=\"float\")\n",
    "\t\t\tVout  = dmas[\"VoutDMA\"].get_buf(32,data_type=\"float\")\n",
    "\t\t\tcholeskySolve(Aout,Vout,M[iD])\n",
    "\t\t#------------------if mode is pure SW------------------\n",
    "\t\tif mode == 0:\n",
    "\t\t\tsoftwareKernel(U,sel,ratings,numRatings,dmas)\n",
    "\t\t\tAout  = dmas[\"Aout\"]\n",
    "\t\t\tVout  = dmas[\"Vout\"]\n",
    "\t\t\tcholeskySolve(Aout,Vout,M[iD])\n",
    "\t\t#-----------------------------------------------------"
   ]
  },
  {
   "cell_type": "markdown",
   "metadata": {},
   "source": [
    "## 6. A function to calculate the Round Mean Squared Error (RMSE) "
   ]
  },
  {
   "cell_type": "code",
   "execution_count": 7,
   "metadata": {
    "collapsed": true
   },
   "outputs": [],
   "source": [
    "def calculateRmse(U,M,userInf,numUsers,numData):\n",
    "\tacc = 0\n",
    "\tRMSE =0\n",
    "\tfor i in range(numUsers):\n",
    "\t\tuserId     = userInf[i]['iD']\n",
    "\t\tnumRatings = userInf[i]['numRatings']\n",
    "\t\tmovieIds   = userInf[i]['rId']\n",
    "\t\tratings    = userInf[i]['ratings']\n",
    "\t\tfor j in range(numRatings):\n",
    "\t\t\tmovie  = movieIds[j]\n",
    "\t\t\ttemp = 0.0;\n",
    "\t\t\tfor k in range(NFEATS):\n",
    "\t\t\t\ttemp += M[movie][k]*U[userId][k];\n",
    "\n",
    "\t\t\tacc += (temp-ratings[j])*(temp-ratings[j]);\n",
    "\t\t\t\t\t\t\n",
    "\treturn math.sqrt( (acc/numData) )\n"
   ]
  },
  {
   "cell_type": "markdown",
   "metadata": {},
   "source": [
    "## 7. Main "
   ]
  },
  {
   "cell_type": "code",
   "execution_count": 8,
   "metadata": {
    "collapsed": true
   },
   "outputs": [],
   "source": [
    "import random\n",
    "import numpy as np\n",
    "import math\n",
    "import time"
   ]
  },
  {
   "cell_type": "markdown",
   "metadata": {},
   "source": [
    "###  Some initial variable declaration"
   ]
  },
  {
   "cell_type": "code",
   "execution_count": 9,
   "metadata": {
    "collapsed": false
   },
   "outputs": [],
   "source": [
    "global NFEATS   \n",
    "NFEATS      = 80             #--define factorization size\n",
    "global NMAXRAT  \n",
    "NMAXRAT     = 7000           #--defines max Hardware Input Size\n",
    "global mode         \n",
    "mode        = 0       #--defines mode 0 = SW | 1 = HW |\n",
    "datasetFile = \"example.dat\"  #--definet dataset file\n",
    "delimiter   = ';'            #--defines the delimeter, that split input data\n",
    "lamda       = 0.1            #--lambda is a factor for overffiting avoidance \n",
    "iterations  = 10            #--defines number of iterations\n",
    "numMovies = 1                #--defines number of movies\n",
    "numUsers  = 1                #--defines number of users\n",
    "numData   = 0                #--total entries in the dataset,\n",
    "                             #--each entry's format is \"user delimiter movie delimiter rating\" i.e \"1;0;3\"\n",
    "uCol      = 0                \n",
    "mCol      = 1\n",
    "rCol      = 2\n",
    "data      = []\n",
    "Ru        = []\n",
    "Rm        = []\n",
    "U         = []\n",
    "M         = []\n"
   ]
  },
  {
   "cell_type": "markdown",
   "metadata": {},
   "source": [
    "### Read dataset"
   ]
  },
  {
   "cell_type": "code",
   "execution_count": 10,
   "metadata": {
    "collapsed": false
   },
   "outputs": [],
   "source": [
    "data = np.loadtxt(datasetFile,dtype='float32',delimiter=delimiter)\n",
    "numData = data.shape[0]"
   ]
  },
  {
   "cell_type": "markdown",
   "metadata": {},
   "source": [
    "### Sort a dataset copy sorted by userIDs in Ru and sorted by movieIDs in Rm"
   ]
  },
  {
   "cell_type": "code",
   "execution_count": 11,
   "metadata": {
    "collapsed": true
   },
   "outputs": [],
   "source": [
    "Ru     = np.sort(data.view('float32,float32,float32'),order=['f0'],axis=0).view(np.float32) \n",
    "Rm     = np.sort(data.view('float32,float32,float32'),order=['f1'],axis=0).view(np.float32) "
   ]
  },
  {
   "cell_type": "markdown",
   "metadata": {},
   "source": [
    "### Count users and movies"
   ]
  },
  {
   "cell_type": "code",
   "execution_count": 12,
   "metadata": {
    "collapsed": false
   },
   "outputs": [
    {
     "name": "stdout",
     "output_type": "stream",
     "text": [
      "numUsers =  4\n",
      "numMovies =  5\n"
     ]
    }
   ],
   "source": [
    "for i in range(1,len(Ru)):\n",
    "\tif Ru[i][uCol]!=Ru[i-1][uCol]:\n",
    "\t\tnumUsers += 1\n",
    "\tif Rm[i][mCol]!=Rm[i-1][mCol]:\n",
    "\t\tnumMovies+= 1\n",
    "\n",
    "print(\"numUsers = \",numUsers)\n",
    "print(\"numMovies = \",numMovies)"
   ]
  },
  {
   "cell_type": "markdown",
   "metadata": {},
   "source": [
    "### Initialize our models parameters to Random Values"
   ]
  },
  {
   "cell_type": "code",
   "execution_count": 13,
   "metadata": {
    "collapsed": false
   },
   "outputs": [],
   "source": [
    "U = np.random.rand(numUsers,NFEATS )\n",
    "M = np.random.rand(numMovies,NFEATS)\n"
   ]
  },
  {
   "cell_type": "markdown",
   "metadata": {},
   "source": [
    "### Initialize and create userInf from raw data as mentioned in \"Variable Explanation\" section"
   ]
  },
  {
   "cell_type": "code",
   "execution_count": 14,
   "metadata": {
    "collapsed": false
   },
   "outputs": [],
   "source": [
    "userInf    = []; \n",
    "numRatings = 0;\t\n",
    "iD         = 0;\n",
    "\n",
    "for i in range(numData+1):\n",
    "\t\tif i!=numData and Ru[i][uCol]==iD:\n",
    "\t\t\tnumRatings += 1;\n",
    "\t\telse:\n",
    "\t\t\tratings = []\n",
    "\t\t\trId     = []\n",
    "\t\t\tfor j in range(numRatings):\n",
    "\t\t\t\tratings.append(Ru[i-numRatings+j][rCol])\n",
    "\t\t\t\trId.append(    Ru[i-numRatings+j][mCol])\n",
    "\n",
    "\t\t\tuserInf.append({\"iD\":iD,'numRatings':numRatings,'ratings':np.array(ratings,dtype=\"float32\"),'rId':np.array(rId,dtype=\"int32\")})\n",
    "\t\t\tiD        += 1\n",
    "\t\t\tnumRatings = 1\n",
    "\n",
    "del Ru"
   ]
  },
  {
   "cell_type": "markdown",
   "metadata": {},
   "source": [
    "### Initialize and create movieInf from raw data as mentioned in \"Variable Explanation\" section"
   ]
  },
  {
   "cell_type": "code",
   "execution_count": 15,
   "metadata": {
    "collapsed": true
   },
   "outputs": [],
   "source": [
    "movieInf   = []\n",
    "numRatings = 0;\n",
    "iD         = 0;\n",
    "\n",
    "for i in range(numData+1):\n",
    "\tif i!=numData and Rm[i][mCol]==iD:\n",
    "\t\tnumRatings += 1\n",
    "\telse:\n",
    "\t\tratings = []\n",
    "\t\trId     = []\n",
    "\t\tfor j in range(numRatings):\n",
    "\t\t\tratings.append(Rm[i-numRatings+j][rCol])\n",
    "\t\t\trId.append(    Rm[i-numRatings+j][uCol])\n",
    "\t\t\t\n",
    "\t\tmovieInf.append({'iD':iD,'numRatings':numRatings,'ratings':np.array(ratings,dtype=\"float32\"),'rId':np.array(rId,dtype=\"int32\")})\n",
    "\t\tiD        += 1\n",
    "\t\tnumRatings = 1\n",
    "\n",
    "del Rm"
   ]
  },
  {
   "cell_type": "markdown",
   "metadata": {},
   "source": [
    "### Initialize the kernel's IO data, \n",
    "1. in case of **software (mode = 0)** we use simple numpy arrays\n",
    "2. in case of **hardware assisted computations (mode = 1)** we use physical continous allocated buffers"
   ]
  },
  {
   "cell_type": "code",
   "execution_count": 16,
   "metadata": {
    "collapsed": false
   },
   "outputs": [],
   "source": [
    "if mode == 1:\n",
    "\tprint(\"mode =\",g.mode)\n",
    "\tdmas = createHardwareInterface()\n",
    "else:\n",
    "\tAout    = np.zeros(NFEATS*NFEATS ,dtype=\"float32\")\n",
    "\tVout    = np.zeros(NFEATS        ,dtype=\"float32\")\n",
    "\tSbuffer = np.zeros(NFEATS*NMAXRAT,dtype=\"float32\")\n",
    "\tRbuffer = np.zeros(NMAXRAT       ,dtype=\"float32\")\n",
    "\tdmas = {\"Aout\" : Aout , \"Vout\" : Vout , \"Sbuffer\" : Sbuffer , \"Rbuffer\" : Rbuffer }"
   ]
  },
  {
   "cell_type": "markdown",
   "metadata": {},
   "source": [
    "### start training by alternate calling updateU and updateM"
   ]
  },
  {
   "cell_type": "code",
   "execution_count": 17,
   "metadata": {
    "collapsed": false
   },
   "outputs": [
    {
     "name": "stdout",
     "output_type": "stream",
     "text": [
      "RMSE =  17.97780382872786\n",
      "#-#-#-#-#-ITERATION:  0 -#-#-#-#-#\n",
      "RMSE =  0.09229149812219402\n",
      "#-#-#-#-#-ITERATION:  1 -#-#-#-#-#\n",
      "RMSE =  0.08140989050327772\n",
      "#-#-#-#-#-ITERATION:  2 -#-#-#-#-#\n",
      "RMSE =  0.06967116928966603\n",
      "#-#-#-#-#-ITERATION:  3 -#-#-#-#-#\n",
      "RMSE =  0.060597921948845716\n",
      "#-#-#-#-#-ITERATION:  4 -#-#-#-#-#\n",
      "RMSE =  0.05475477957623897\n",
      "#-#-#-#-#-ITERATION:  5 -#-#-#-#-#\n",
      "RMSE =  0.050937963447516325\n",
      "#-#-#-#-#-ITERATION:  6 -#-#-#-#-#\n",
      "RMSE =  0.048313296520533906\n",
      "#-#-#-#-#-ITERATION:  7 -#-#-#-#-#\n",
      "RMSE =  0.04640206352126649\n",
      "#-#-#-#-#-ITERATION:  8 -#-#-#-#-#\n",
      "RMSE =  0.04489719436980095\n",
      "#-#-#-#-#-ITERATION:  9 -#-#-#-#-#\n",
      "RMSE =  0.043620870676756046\n",
      "total train time =  8.974894046783447\n"
     ]
    }
   ],
   "source": [
    "print(\"RMSE = \",calculateRmse(U,M,userInf,numUsers,numData))\n",
    "\n",
    "start_time = time.time()\n",
    "\n",
    "for i in range(iterations):\n",
    "\tprint(\"#-#-#-#-#-ITERATION: \",i, \"-#-#-#-#-#\")\n",
    "\tupdateU(U,M,numUsers ,userInf ,dmas)\n",
    "\tupdateM(U,M,numMovies,movieInf,dmas)\n",
    "\tprint(\"RMSE = \",calculateRmse(U,M,userInf,numUsers,numData))\n",
    "\n",
    "train_time = time.time()-start_time\n",
    "print(\"total train time = \",train_time)\n"
   ]
  },
  {
   "cell_type": "code",
   "execution_count": 19,
   "metadata": {
    "collapsed": false
   },
   "outputs": [
    {
     "name": "stdout",
     "output_type": "stream",
     "text": [
      "[0 1]\n",
      "User  0  rated Movie  0  with  5.0  we predict  4.92534270843\n",
      "User  0  rated Movie  3  with  3.0  we predict  2.96505139748\n",
      "User  0  rated Movie  4  with  4.0  we predict  3.94396143647\n",
      "User  1  rated Movie  1  with  4.0  we predict  3.94468361008\n",
      "User  1  rated Movie  3  with  1.0  we predict  1.01015265686\n",
      "User  1  rated Movie  4  with  3.5  we predict  3.46601399214\n"
     ]
    }
   ],
   "source": [
    "someRandomUsers = np.random.choice(numUsers, 2,replace = False)\n",
    "print(someRandomUsers)\n",
    "for u in someRandomUsers:\n",
    "        sel           = userInf[u]['rId']\n",
    "        ratings       = userInf[u]['ratings'] \n",
    "        numRatings    = userInf[u]['numRatings']\n",
    "        iD            = userInf[u]['iD']\n",
    "        for i in range(numRatings):\n",
    "            movie = sel[i]\n",
    "            prediction = 0\n",
    "            for j in range(NFEATS):\n",
    "                prediction += U[u][j]*M[movie][j]\n",
    "            print(\"User \",iD,\" rated Movie \",sel[i],\" with \",ratings[i],\" we predict \",prediction )"
   ]
  },
  {
   "cell_type": "code",
   "execution_count": null,
   "metadata": {
    "collapsed": true
   },
   "outputs": [],
   "source": []
  },
  {
   "cell_type": "code",
   "execution_count": null,
   "metadata": {
    "collapsed": true
   },
   "outputs": [],
   "source": []
  }
 ],
 "metadata": {
  "kernelspec": {
   "display_name": "Python 3",
   "language": "python",
   "name": "python3"
  },
  "language_info": {
   "codemirror_mode": {
    "name": "ipython",
    "version": 3
   },
   "file_extension": ".py",
   "mimetype": "text/x-python",
   "name": "python",
   "nbconvert_exporter": "python",
   "pygments_lexer": "ipython3",
   "version": "3.6.0"
  }
 },
 "nbformat": 4,
 "nbformat_minor": 2
}
